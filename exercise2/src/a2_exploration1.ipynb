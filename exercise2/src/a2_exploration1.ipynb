{
 "metadata": {
  "language_info": {
   "codemirror_mode": {
    "name": "ipython",
    "version": 3
   },
   "file_extension": ".py",
   "mimetype": "text/x-python",
   "name": "python",
   "nbconvert_exporter": "python",
   "pygments_lexer": "ipython3",
   "version": "3.7.3-final"
  },
  "orig_nbformat": 2,
  "kernelspec": {
   "name": "python3",
   "display_name": "Python 3.7.3 64-bit ('nlp2_env')",
   "metadata": {
    "interpreter": {
     "hash": "a5452f1e8a63d7b61b8aceb516da78f027b3877eec814db135bc192267f1ab10"
    }
   }
  }
 },
 "nbformat": 4,
 "nbformat_minor": 2,
 "cells": [
  {
   "source": [
    "# Exploration of the data on hand"
   ],
   "cell_type": "markdown",
   "metadata": {}
  },
  {
   "source": [
    "## 0 - Imports"
   ],
   "cell_type": "markdown",
   "metadata": {}
  },
  {
   "cell_type": "code",
   "execution_count": 4,
   "metadata": {},
   "outputs": [],
   "source": [
    "import pandas as pd\n",
    "import numpy as np\n",
    "import os"
   ]
  },
  {
   "cell_type": "code",
   "execution_count": 5,
   "metadata": {},
   "outputs": [],
   "source": [
    "path = \"/Users/armandkouyoumdjian/github/INTRO_NLP_A2/exercise2/\"\n",
    "os.chdir(path)"
   ]
  },
  {
   "cell_type": "code",
   "execution_count": 6,
   "metadata": {},
   "outputs": [
    {
     "output_type": "execute_result",
     "data": {
      "text/plain": [
       "   polarity            category OTE/target character offsets  \\\n",
       "0  positive    AMBIENCE#GENERAL    seating             18:25   \n",
       "1  positive    AMBIENCE#GENERAL  trattoria             25:34   \n",
       "2  positive        FOOD#QUALITY       food            98:102   \n",
       "3  negative     SERVICE#GENERAL      STAFF              5:10   \n",
       "4  positive  FOOD#STYLE_OPTIONS       menu               4:8   \n",
       "\n",
       "                                              review  \n",
       "0  short and sweet – seating is great:it's romant...  \n",
       "1  This quaint and romantic trattoria is at the t...  \n",
       "2  The have over 100 different beers to offer thi...  \n",
       "3                        THIS STAFF SHOULD BE FIRED.  \n",
       "4  The menu looked great, and the waiter was very...  "
      ],
      "text/html": "<div>\n<style scoped>\n    .dataframe tbody tr th:only-of-type {\n        vertical-align: middle;\n    }\n\n    .dataframe tbody tr th {\n        vertical-align: top;\n    }\n\n    .dataframe thead th {\n        text-align: right;\n    }\n</style>\n<table border=\"1\" class=\"dataframe\">\n  <thead>\n    <tr style=\"text-align: right;\">\n      <th></th>\n      <th>polarity</th>\n      <th>category</th>\n      <th>OTE/target</th>\n      <th>character offsets</th>\n      <th>review</th>\n    </tr>\n  </thead>\n  <tbody>\n    <tr>\n      <th>0</th>\n      <td>positive</td>\n      <td>AMBIENCE#GENERAL</td>\n      <td>seating</td>\n      <td>18:25</td>\n      <td>short and sweet – seating is great:it's romant...</td>\n    </tr>\n    <tr>\n      <th>1</th>\n      <td>positive</td>\n      <td>AMBIENCE#GENERAL</td>\n      <td>trattoria</td>\n      <td>25:34</td>\n      <td>This quaint and romantic trattoria is at the t...</td>\n    </tr>\n    <tr>\n      <th>2</th>\n      <td>positive</td>\n      <td>FOOD#QUALITY</td>\n      <td>food</td>\n      <td>98:102</td>\n      <td>The have over 100 different beers to offer thi...</td>\n    </tr>\n    <tr>\n      <th>3</th>\n      <td>negative</td>\n      <td>SERVICE#GENERAL</td>\n      <td>STAFF</td>\n      <td>5:10</td>\n      <td>THIS STAFF SHOULD BE FIRED.</td>\n    </tr>\n    <tr>\n      <th>4</th>\n      <td>positive</td>\n      <td>FOOD#STYLE_OPTIONS</td>\n      <td>menu</td>\n      <td>4:8</td>\n      <td>The menu looked great, and the waiter was very...</td>\n    </tr>\n  </tbody>\n</table>\n</div>"
     },
     "metadata": {},
     "execution_count": 6
    }
   ],
   "source": [
    "traindata = pd.read_csv(\"data/traindata.csv\", sep=\"\\t\", header=None)\n",
    "traindata.columns = ['polarity', 'category', 'OTE/target', 'character offsets', 'review']\n",
    "traindata.head()"
   ]
  },
  {
   "source": [
    "## 1 - General Exploration"
   ],
   "cell_type": "markdown",
   "metadata": {}
  },
  {
   "cell_type": "code",
   "execution_count": 7,
   "metadata": {},
   "outputs": [
    {
     "output_type": "execute_result",
     "data": {
      "text/plain": [
       "1503"
      ]
     },
     "metadata": {},
     "execution_count": 7
    }
   ],
   "source": [
    "len(traindata)"
   ]
  },
  {
   "cell_type": "code",
   "execution_count": 8,
   "metadata": {},
   "outputs": [
    {
     "output_type": "execute_result",
     "data": {
      "text/plain": [
       "polarity             0\n",
       "category             0\n",
       "OTE/target           0\n",
       "character offsets    0\n",
       "review               0\n",
       "dtype: int64"
      ]
     },
     "metadata": {},
     "execution_count": 8
    }
   ],
   "source": [
    "traindata.isna().sum()"
   ]
  },
  {
   "cell_type": "code",
   "execution_count": 9,
   "metadata": {},
   "outputs": [
    {
     "output_type": "execute_result",
     "data": {
      "text/plain": [
       "polarity             object\n",
       "category             object\n",
       "OTE/target           object\n",
       "character offsets    object\n",
       "review               object\n",
       "dtype: object"
      ]
     },
     "metadata": {},
     "execution_count": 9
    }
   ],
   "source": [
    "traindata.dtypes"
   ]
  },
  {
   "source": [
    "## 2 - Exploration per category"
   ],
   "cell_type": "markdown",
   "metadata": {}
  },
  {
   "cell_type": "code",
   "execution_count": 10,
   "metadata": {},
   "outputs": [
    {
     "output_type": "execute_result",
     "data": {
      "text/plain": [
       "positive    1055\n",
       "negative     390\n",
       "neutral       58\n",
       "Name: polarity, dtype: int64"
      ]
     },
     "metadata": {},
     "execution_count": 10
    }
   ],
   "source": [
    "traindata[\"polarity\"].value_counts()"
   ]
  },
  {
   "cell_type": "code",
   "execution_count": 11,
   "metadata": {},
   "outputs": [
    {
     "output_type": "execute_result",
     "data": {
      "text/plain": [
       "FOOD#QUALITY                603\n",
       "SERVICE#GENERAL             263\n",
       "AMBIENCE#GENERAL            188\n",
       "RESTAURANT#GENERAL          138\n",
       "FOOD#STYLE_OPTIONS           98\n",
       "FOOD#PRICES                  58\n",
       "DRINKS#QUALITY               41\n",
       "RESTAURANT#MISCELLANEOUS     39\n",
       "DRINKS#STYLE_OPTIONS         26\n",
       "RESTAURANT#PRICES            20\n",
       "LOCATION#GENERAL             16\n",
       "DRINKS#PRICES                13\n",
       "Name: category, dtype: int64"
      ]
     },
     "metadata": {},
     "execution_count": 11
    }
   ],
   "source": [
    "traindata[\"category\"].value_counts()"
   ]
  },
  {
   "source": [
    "We notice some **class imbalance**, we should reweight, just like in https://www.aclweb.org/anthology/W19-6120.pdf. "
   ],
   "cell_type": "markdown",
   "metadata": {}
  },
  {
   "source": [
    "## 3 - Sentiment Analysis"
   ],
   "cell_type": "markdown",
   "metadata": {}
  },
  {
   "source": [
    "### 3.1 -  Using Hugging-Face pre-trained transformer + Only the review (Not the category)\n",
    "\n",
    "### NOTE: We have to use a classifier only trained on the model's data, so this would not work in the end\n"
   ],
   "cell_type": "markdown",
   "metadata": {}
  },
  {
   "cell_type": "code",
   "execution_count": 12,
   "metadata": {},
   "outputs": [],
   "source": [
    "from transformers import pipeline"
   ]
  },
  {
   "cell_type": "code",
   "execution_count": 13,
   "metadata": {},
   "outputs": [
    {
     "output_type": "stream",
     "name": "stdout",
     "text": [
      "[{'label': 'NEGATIVE', 'score': 0.9991129040718079}]\n"
     ]
    }
   ],
   "source": [
    "print(pipeline('sentiment-analysis')('I hate you'))"
   ]
  },
  {
   "cell_type": "code",
   "execution_count": 19,
   "metadata": {},
   "outputs": [],
   "source": [
    "# Let'see how the default - pretrained - pipelineperforms\n",
    "\n",
    "def give_polarity(sentence, nlp_pipeline):\n",
    "    lbl = nlp_pipeline(sentence)[0]['label']\n",
    "    \n",
    "    return lbl.lower()\n"
   ]
  },
  {
   "cell_type": "code",
   "execution_count": 20,
   "metadata": {},
   "outputs": [],
   "source": [
    "nlp = pipeline('sentiment-analysis')\n"
   ]
  },
  {
   "cell_type": "code",
   "execution_count": 21,
   "metadata": {},
   "outputs": [
    {
     "output_type": "execute_result",
     "data": {
      "text/plain": [
       "'positive'"
      ]
     },
     "metadata": {},
     "execution_count": 21
    }
   ],
   "source": [
    "give_polarity(\"What a lovely day!\", nlp)"
   ]
  },
  {
   "source": [
    "Test on the whole dataset"
   ],
   "cell_type": "markdown",
   "metadata": {}
  },
  {
   "cell_type": "code",
   "execution_count": 22,
   "metadata": {},
   "outputs": [],
   "source": [
    "traindata[\"prediction\"] = traindata[\"review\"].apply(lambda x: give_polarity(x, nlp))"
   ]
  },
  {
   "source": [
    "### 3.2 - Transformer from scratch"
   ],
   "cell_type": "markdown",
   "metadata": {}
  },
  {
   "cell_type": "code",
   "execution_count": 31,
   "metadata": {},
   "outputs": [
    {
     "output_type": "stream",
     "name": "stdout",
     "text": [
      "Accuracy using pretrained transformer: 0.83\n"
     ]
    }
   ],
   "source": [
    "#  Accuracy\n",
    "acc= (traindata[\"prediction\"]==traindata[\"polarity\"]).sum()/len(traindata)\n",
    "\n",
    "print(f\"Accuracy using pretrained transformer: {acc:.2f}\")"
   ]
  },
  {
   "cell_type": "code",
   "execution_count": null,
   "metadata": {},
   "outputs": [],
   "source": [
    "traindata.drop(\"polarity\", axis=1, inplace=True)"
   ]
  },
  {
   "cell_type": "code",
   "execution_count": null,
   "metadata": {},
   "outputs": [],
   "source": []
  }
 ]
}