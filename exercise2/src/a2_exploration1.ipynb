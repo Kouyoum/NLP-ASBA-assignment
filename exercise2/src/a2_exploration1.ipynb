{
 "metadata": {
  "language_info": {
   "codemirror_mode": {
    "name": "ipython",
    "version": 3
   },
   "file_extension": ".py",
   "mimetype": "text/x-python",
   "name": "python",
   "nbconvert_exporter": "python",
   "pygments_lexer": "ipython3",
   "version": "3.8.5-final"
  },
  "orig_nbformat": 2,
  "kernelspec": {
   "name": "python3",
   "display_name": "Python 3",
   "language": "python"
  }
 },
 "nbformat": 4,
 "nbformat_minor": 2,
 "cells": [
  {
   "source": [
    "# Exploration of the data on hand"
   ],
   "cell_type": "markdown",
   "metadata": {}
  },
  {
   "source": [
    "## 0 - Imports"
   ],
   "cell_type": "markdown",
   "metadata": {}
  },
  {
   "cell_type": "code",
   "execution_count": 1,
   "metadata": {},
   "outputs": [],
   "source": [
    "import pandas as pd\n",
    "import numpy as np\n",
    "import os"
   ]
  },
  {
   "cell_type": "code",
   "execution_count": 2,
   "metadata": {},
   "outputs": [],
   "source": [
    "path = \"/Users/armandkouyoumdjian/github/INTRO_NLP_A2/exercise2/\"\n",
    "os.chdir(path)"
   ]
  },
  {
   "cell_type": "code",
   "execution_count": 10,
   "metadata": {},
   "outputs": [
    {
     "output_type": "execute_result",
     "data": {
      "text/plain": [
       "   polarity            category OTE/target character offsets  \\\n",
       "0  positive    AMBIENCE#GENERAL    seating             18:25   \n",
       "1  positive    AMBIENCE#GENERAL  trattoria             25:34   \n",
       "2  positive        FOOD#QUALITY       food            98:102   \n",
       "3  negative     SERVICE#GENERAL      STAFF              5:10   \n",
       "4  positive  FOOD#STYLE_OPTIONS       menu               4:8   \n",
       "\n",
       "                                              review  \n",
       "0  short and sweet – seating is great:it's romant...  \n",
       "1  This quaint and romantic trattoria is at the t...  \n",
       "2  The have over 100 different beers to offer thi...  \n",
       "3                        THIS STAFF SHOULD BE FIRED.  \n",
       "4  The menu looked great, and the waiter was very...  "
      ],
      "text/html": "<div>\n<style scoped>\n    .dataframe tbody tr th:only-of-type {\n        vertical-align: middle;\n    }\n\n    .dataframe tbody tr th {\n        vertical-align: top;\n    }\n\n    .dataframe thead th {\n        text-align: right;\n    }\n</style>\n<table border=\"1\" class=\"dataframe\">\n  <thead>\n    <tr style=\"text-align: right;\">\n      <th></th>\n      <th>polarity</th>\n      <th>category</th>\n      <th>OTE/target</th>\n      <th>character offsets</th>\n      <th>review</th>\n    </tr>\n  </thead>\n  <tbody>\n    <tr>\n      <th>0</th>\n      <td>positive</td>\n      <td>AMBIENCE#GENERAL</td>\n      <td>seating</td>\n      <td>18:25</td>\n      <td>short and sweet – seating is great:it's romant...</td>\n    </tr>\n    <tr>\n      <th>1</th>\n      <td>positive</td>\n      <td>AMBIENCE#GENERAL</td>\n      <td>trattoria</td>\n      <td>25:34</td>\n      <td>This quaint and romantic trattoria is at the t...</td>\n    </tr>\n    <tr>\n      <th>2</th>\n      <td>positive</td>\n      <td>FOOD#QUALITY</td>\n      <td>food</td>\n      <td>98:102</td>\n      <td>The have over 100 different beers to offer thi...</td>\n    </tr>\n    <tr>\n      <th>3</th>\n      <td>negative</td>\n      <td>SERVICE#GENERAL</td>\n      <td>STAFF</td>\n      <td>5:10</td>\n      <td>THIS STAFF SHOULD BE FIRED.</td>\n    </tr>\n    <tr>\n      <th>4</th>\n      <td>positive</td>\n      <td>FOOD#STYLE_OPTIONS</td>\n      <td>menu</td>\n      <td>4:8</td>\n      <td>The menu looked great, and the waiter was very...</td>\n    </tr>\n  </tbody>\n</table>\n</div>"
     },
     "metadata": {},
     "execution_count": 10
    }
   ],
   "source": [
    "traindata = pd.read_csv(\"data/traindata.csv\", sep=\"\\t\", header=None)\n",
    "traindata.columns = ['polarity', 'category', 'OTE/target', 'character offsets', 'review']\n",
    "traindata.head()"
   ]
  },
  {
   "source": [
    "## 1 - General Exploration"
   ],
   "cell_type": "markdown",
   "metadata": {}
  },
  {
   "cell_type": "code",
   "execution_count": 9,
   "metadata": {},
   "outputs": [
    {
     "output_type": "execute_result",
     "data": {
      "text/plain": [
       "1502"
      ]
     },
     "metadata": {},
     "execution_count": 9
    }
   ],
   "source": [
    "len(traindata)"
   ]
  },
  {
   "cell_type": "code",
   "execution_count": 15,
   "metadata": {},
   "outputs": [
    {
     "output_type": "execute_result",
     "data": {
      "text/plain": [
       "positive                                                              0\n",
       "AMBIENCE#GENERAL                                                      0\n",
       "seating                                                               0\n",
       "18:25                                                                 0\n",
       "short and sweet – seating is great:it's romantic,cozy and private.    0\n",
       "dtype: int64"
      ]
     },
     "metadata": {},
     "execution_count": 15
    }
   ],
   "source": [
    "traindata.isna().sum()"
   ]
  },
  {
   "cell_type": "code",
   "execution_count": 13,
   "metadata": {},
   "outputs": [
    {
     "output_type": "execute_result",
     "data": {
      "text/plain": [
       "positive                                                              object\n",
       "AMBIENCE#GENERAL                                                      object\n",
       "seating                                                               object\n",
       "18:25                                                                 object\n",
       "short and sweet – seating is great:it's romantic,cozy and private.    object\n",
       "dtype: object"
      ]
     },
     "metadata": {},
     "execution_count": 13
    }
   ],
   "source": [
    "traindata.dtypes"
   ]
  },
  {
   "source": [
    "## 2 - Exploration per category"
   ],
   "cell_type": "markdown",
   "metadata": {}
  },
  {
   "cell_type": "code",
   "execution_count": 12,
   "metadata": {},
   "outputs": [
    {
     "output_type": "execute_result",
     "data": {
      "text/plain": [
       "positive    1054\n",
       "negative     390\n",
       "neutral       58\n",
       "Name: positive, dtype: int64"
      ]
     },
     "metadata": {},
     "execution_count": 12
    }
   ],
   "source": [
    "traindata[\"positive\"].value_counts()"
   ]
  },
  {
   "cell_type": "code",
   "execution_count": null,
   "metadata": {},
   "outputs": [],
   "source": []
  }
 ]
}